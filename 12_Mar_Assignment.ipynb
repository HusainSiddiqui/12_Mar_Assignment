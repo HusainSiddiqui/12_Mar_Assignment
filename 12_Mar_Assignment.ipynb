{
 "cells": [
  {
   "cell_type": "markdown",
   "metadata": {},
   "source": [
    "Q1. Calculate the 95% confidence interval for a sample of data with a mean of 50 and a standard deviation\n",
    "of 5 using Python. Interpret the results."
   ]
  },
  {
   "cell_type": "code",
   "execution_count": 8,
   "metadata": {},
   "outputs": [
    {
     "name": "stdout",
     "output_type": "stream",
     "text": [
      "95% confidence interval: (49.01, 50.99)\n"
     ]
    }
   ],
   "source": [
    "n=100\n",
    "confidence_level = 0.95\n",
    "sample_mean = 50\n",
    "sample_std = 5\n",
    "\n",
    "import numpy as np\n",
    "import scipy.stats as stats\n",
    "\n",
    "\n",
    "\n",
    "\n",
    "# Calculate the standard error\n",
    "standard_error = sample_std / (n ** 0.5)\n",
    "\n",
    "# Calculate the margin of error\n",
    "margin_of_error = stats.t.ppf((1 + confidence_level) / 2, n - 1) * standard_error\n",
    "\n",
    "# Calculate the confidence interval\n",
    "lower_bound = sample_mean - margin_of_error\n",
    "upper_bound = sample_mean + margin_of_error\n",
    "\n",
    "print(f\"95% confidence interval: ({lower_bound:.2f}, {upper_bound:.2f})\")\n"
   ]
  },
  {
   "cell_type": "markdown",
   "metadata": {},
   "source": [
    "Q2. Conduct a chi-square goodness of fit test to determine if the distribution of colors of M&Ms in a bag\n",
    "matches the expected distribution of 20% blue, 20% orange, 20% green, 10% yellow, 10% red, and 20%\n",
    "brown. Use Python to perform the test with a significance level of 0.05."
   ]
  },
  {
   "cell_type": "code",
   "execution_count": 10,
   "metadata": {},
   "outputs": [
    {
     "name": "stdout",
     "output_type": "stream",
     "text": [
      "Chi-square statistic: 5.0909\n",
      "P-value: 0.3984\n"
     ]
    }
   ],
   "source": [
    "import numpy as np\n",
    "from scipy.stats import chisquare\n",
    "\n",
    "# observed frequencies of M&M colors\n",
    "observed = np.array([30, 24, 20, 10, 10, 16])\n",
    "\n",
    "# expected frequencies of M&M colors\n",
    "expected = np.array([.2, .2, .2, .1, .1, .2]) * np.sum(observed)\n",
    "\n",
    "# perform the chi-square test\n",
    "chi2, p = chisquare(f_obs=observed, f_exp=expected)\n",
    "\n",
    "# print the results\n",
    "print(f\"Chi-square statistic: {chi2:.4f}\")\n",
    "print(f\"P-value: {p:.4f}\")\n"
   ]
  },
  {
   "cell_type": "markdown",
   "metadata": {},
   "source": [
    "Q3. Use Python to calculate the chi-square statistic and p-value for a contingency table with the following\n",
    "data:\n",
    "\n",
    "\n",
    "| |group A |group A|total|\n",
    "|---|---|---|\n",
    "|Outcome 1 |20 |15|35|\n",
    "|Outcome 2 |10 |25|35|\n",
    "|Outcome 3 |15 |20|35|\n",
    "|total|45|60|95|\n",
    "Interpret the results of the test.\n"
   ]
  },
  {
   "cell_type": "markdown",
   "metadata": {},
   "source": [
    "**Step 1: Define the Hypothesis**\n",
    "\n",
    "H0 =grup A\n",
    "\n",
    "H1 =group B\n",
    "\n",
    "**Step 2: Calculate the Expected Values**\n",
    "\n",
    "formula:- \n",
    "\n",
    "expected_value=(total_row*total_column)/total no of observation\n",
    "\n",
    "| |group A |group A|total|\n",
    "|---|---|---|\n",
    "|Outcome 1 |16.57 |22.10|38.67|\n",
    "|Outcome 2 |16.57 |22.10|38.67|\n",
    "|Outcome 3 |16.57 |22.10|38.67|\n",
    "|total|49.71|66.3|116.01|\n",
    "\n",
    "**Step 3:calculate x2=sum(E-O)**2/E**\n",
    "\n",
    "| |group A |group A|total|\n",
    "|---|---|---|\n",
    "|Outcome 1 | 0.71|2.21|2.92|\n",
    "|Outcome 2 | 2.6|0.38|2.98|\n",
    "|Outcome 3 | 0.14|0.19|0.33|\n",
    "|total|3.45|2.78|6.23|\n",
    "\n",
    "**Step 4: sum of all observation**\n",
    "\n",
    "x2=0.71+2.21+2.6+0.38+0.14+0.19\n",
    "x2=6.229\n",
    "\n",
    "**Step 5:calculate  degrees of freedom**\n",
    "\n",
    "df=(number of columns -1)*(number of rows - 1)\n",
    "\n",
    "df=(2-1)*(3-1)\n",
    "\n",
    "df=2\n",
    "\n",
    "**Step 5: find critical value of chi_square distribution with degree of freedom**\n",
    "\n",
    "    alpha level of = 0.05\n",
    "    critical_value = 5.991\n",
    "\n",
    "**Step 6: compare critical value and observed value**\n",
    "\n",
    "if x2<critical_value we regect H0\n",
    "\n",
    "if x2>critical_value we fail to reject H0"
   ]
  },
  {
   "cell_type": "markdown",
   "metadata": {},
   "source": [
    "Q4. A study of the prevalence of smoking in a population of 500 individuals found that 60 individuals\n",
    "smoked. Use Python to calculate the 95% confidence interval for the true proportion of individuals in the\n",
    "population who smoke."
   ]
  },
  {
   "cell_type": "code",
   "execution_count": 21,
   "metadata": {},
   "outputs": [
    {
     "name": "stdout",
     "output_type": "stream",
     "text": [
      "95% confidence interval:  (0.09151638887130706, 0.14848361112869293)\n"
     ]
    }
   ],
   "source": [
    "import statsmodels.stats.proportion as prop\n",
    "\n",
    "n = 500      # sample size\n",
    "p = 60/500   # proportion of smokers in the sample\n",
    "alpha = 0.05 # significance level\n",
    "\n",
    "# calculate the confidence interval\n",
    "conf_int = prop.proportion_confint(count=p*n, nobs=n, alpha=alpha)\n",
    "\n",
    "print(\"95% confidence interval: \", conf_int)\n",
    "#95% confidence interval:  (0.09151638887130706, 0.14848361112869293)\n"
   ]
  },
  {
   "cell_type": "markdown",
   "metadata": {},
   "source": [
    "Q5. Calculate the 90% confidence interval for a sample of data with a mean of 75 and a standard deviation\n",
    "of 12 using Python. Interpret the results."
   ]
  },
  {
   "cell_type": "code",
   "execution_count": 23,
   "metadata": {},
   "outputs": [
    {
     "name": "stdout",
     "output_type": "stream",
     "text": [
      "90% confidence interval:  (73.02617564765823, 76.97382435234177)\n"
     ]
    }
   ],
   "source": [
    "import scipy.stats as stats\n",
    "\n",
    "n = 100       # sample size\n",
    "mean = 75     # sample mean\n",
    "sd = 12       # sample standard deviation\n",
    "alpha = 0.10  # significance level\n",
    "\n",
    "# calculate the standard error of the mean\n",
    "sem = sd / (n ** 0.5)\n",
    "\n",
    "# calculate the confidence interval\n",
    "conf_int = stats.norm.interval(1-alpha, loc=mean, scale=sem)\n",
    "\n",
    "print(\"90% confidence interval: \", conf_int)"
   ]
  },
  {
   "cell_type": "markdown",
   "metadata": {},
   "source": [
    "Q6. Use Python to plot the chi-square distribution with 10 degrees of freedom. Label the axes and shade the\n",
    "area corresponding to a chi-square statistic of 15."
   ]
  },
  {
   "cell_type": "code",
   "execution_count": 25,
   "metadata": {},
   "outputs": [
    {
     "data": {
      "image/png": "[encoded data removed]",
      "text/plain": [
       "<Figure size 432x288 with 1 Axes>"
      ]
     },
     "metadata": {
      "needs_background": "light"
     },
     "output_type": "display_data"
    }
   ],
   "source": [
    "import numpy as np\n",
    "import matplotlib.pyplot as plt\n",
    "from scipy.stats import chi2\n",
    "\n",
    "# Set the degrees of freedom\n",
    "df = 10\n",
    "\n",
    "# Define the x range\n",
    "x = np.linspace(0, 30, 500)\n",
    "\n",
    "# Calculate the y values of the chi-square distribution\n",
    "y = chi2.pdf(x, df)\n",
    "\n",
    "# Plot the chi-square distribution\n",
    "plt.plot(x, y, label='Chi-square distribution (df=10)')\n",
    "\n",
    "# Shade the area corresponding to a chi-square statistic of 15\n",
    "x_shade = np.linspace(15, 30, 100)\n",
    "y_shade = chi2.pdf(x_shade, df)\n",
    "plt.fill_between(x_shade, y_shade, color='red', alpha=0.5)\n",
    "\n",
    "# Add labels and title\n",
    "plt.xlabel('Chi-square statistic')\n",
    "plt.ylabel('Probability density')\n",
    "plt.title('Chi-square Distribution with 10 Degrees of Freedom')\n",
    "\n",
    "# Show the plot\n",
    "plt.show()\n"
   ]
  },
  {
   "cell_type": "markdown",
   "metadata": {},
   "source": [
    "Q7. A random sample of 1000 people was asked if they preferred Coke or Pepsi. Of the sample, 520\n",
    "preferred Coke. Calculate a 99% confidence interval for the true proportion of people in the population who\n",
    "prefer Coke."
   ]
  },
  {
   "cell_type": "code",
   "execution_count": 28,
   "metadata": {},
   "outputs": [
    {
     "name": "stdout",
     "output_type": "stream",
     "text": [
      "99% confidence interval:  (0.4793051576779699, 0.5606948423220302)\n"
     ]
    }
   ],
   "source": [
    "import statsmodels.stats.proportion as prop\n",
    "\n",
    "n = 1000      # sample size\n",
    "p = 520/1000   # proportion of smokers in the sample\n",
    "alpha = 0.01 # significance level\n",
    "\n",
    "# calculate the confidence interval\n",
    "conf_int = prop.proportion_confint(count=p*n, nobs=n, alpha=alpha)\n",
    "\n",
    "print(\"99% confidence interval: \", conf_int)\n",
    "#95% confidence interval:  (0.09151638887130706, 0.14848361112869293)"
   ]
  },
  {
   "cell_type": "markdown",
   "metadata": {},
   "source": [
    "Q8. A researcher hypothesizes that a coin is biased towards tails. They flip the coin 100 times and observe\n",
    "45 tails. Conduct a chi-square goodness of fit test to determine if the observed frequencies match the\n",
    "expected frequencies of a fair coin. Use a significance level of 0.05."
   ]
  },
  {
   "cell_type": "code",
   "execution_count": 29,
   "metadata": {},
   "outputs": [
    {
     "name": "stdout",
     "output_type": "stream",
     "text": [
      "Chi-square statistic: 0.3208020050125313\n",
      "Degrees of freedom: 1\n",
      "p-value: 0.5711260675200032\n",
      "The null hypothesis is not rejected at the 0.05 level of significance.\n"
     ]
    }
   ],
   "source": [
    "import numpy as np\n",
    "from scipy.stats import chi2_contingency\n",
    "\n",
    "# Set the significance level\n",
    "alpha = 0.05\n",
    "\n",
    "# Define the observed frequencies\n",
    "observed_freqs = np.array([45, 55])\n",
    "\n",
    "# Define the expected frequencies assuming a fair coin\n",
    "expected_freqs = np.array([50, 50])\n",
    "\n",
    "# Calculate the chi-square statistic, degrees of freedom, and p-value\n",
    "chi2_stat, p_val, dof, expected = chi2_contingency([observed_freqs, expected_freqs])\n",
    "\n",
    "# Print the results\n",
    "print(\"Chi-square statistic:\", chi2_stat)\n",
    "print(\"Degrees of freedom:\", dof)\n",
    "print(\"p-value:\", p_val)\n",
    "\n",
    "# Determine if the null hypothesis is rejected or not\n",
    "if p_val < alpha:\n",
    "    print(\"The null hypothesis is rejected at the\", alpha, \"level of significance.\")\n",
    "else:\n",
    "    print(\"The null hypothesis is not rejected at the\", alpha, \"level of significance.\")\n"
   ]
  },
  {
   "cell_type": "markdown",
   "metadata": {},
   "source": [
    "Q9. A study was conducted to determine if there is an association between smoking status (smoker or\n",
    "non-smoker) and lung cancer diagnosis (yes or no). The results are shown in the contingency table below.\n",
    "Conduct a chi-square test for independence to determine if there is a significant association between\n",
    "smoking status and lung cancer diagnosis.\n",
    "\n",
    "| |Lung Cancer: Yes |Lung Cancer: No|Total|\n",
    "|---|---|---|\n",
    "|Smoker |60 |140|\n",
    "|Non-smoker  |30 |170|\n",
    "\n",
    "Use a significance level of 0.05."
   ]
  },
  {
   "cell_type": "code",
   "execution_count": 30,
   "metadata": {},
   "outputs": [
    {
     "name": "stdout",
     "output_type": "stream",
     "text": [
      "Chi-square test results:\n",
      "Chi-square statistic: 12.0573\n",
      "P-value: 0.0005\n",
      "Degrees of freedom: 1\n",
      "Expected frequencies:\n",
      "[[ 45. 155.]\n",
      " [ 45. 155.]]\n"
     ]
    }
   ],
   "source": [
    "import numpy as np\n",
    "from scipy.stats import chi2_contingency\n",
    "\n",
    "# Create the contingency table\n",
    "observed = np.array([[60, 140],\n",
    "                     [30, 170]])\n",
    "\n",
    "# Perform chi-square test for independence\n",
    "chi2, p_value, dof, expected = chi2_contingency(observed)\n",
    "\n",
    "# Print the results\n",
    "print(\"Chi-square test results:\")\n",
    "print(f\"Chi-square statistic: {chi2:.4f}\")\n",
    "print(f\"P-value: {p_value:.4f}\")\n",
    "print(f\"Degrees of freedom: {dof}\")\n",
    "print(\"Expected frequencies:\")\n",
    "print(expected)\n"
   ]
  },
  {
   "cell_type": "markdown",
   "metadata": {},
   "source": [
    "Q10. A study was conducted to determine if the proportion of people who prefer milk chocolate, dark\n",
    "chocolate, or white chocolate is different in the U.S. versus the U.K. A random sample of 500 people from\n",
    "the U.S. and a random sample of 500 people from the U.K. were surveyed. The results are shown in the\n",
    "contingency table below. Conduct a chi-square test for independence to determine if there is a significant\n",
    "association between chocolate preference and country of origin.\n",
    "\n",
    "\n",
    "| |milk Chocolate |dark Chocolate|white Chocolate|\n",
    "|---|---|---|---|\n",
    "|US (n=500) |200 |150|150|\n",
    "|UK (n=500) |225 |175|100|\n",
    "\n",
    "Use a significance level of 0.01"
   ]
  },
  {
   "cell_type": "code",
   "execution_count": 35,
   "metadata": {},
   "outputs": [
    {
     "name": "stdout",
     "output_type": "stream",
     "text": [
      "Chi-square statistic:  13.393665158371041\n",
      "Degrees of freedom:  2\n",
      "p-value:  0.0012348168997745918\n",
      "Expected frequencies: \n",
      " [[212.5 162.5 125. ]\n",
      " [212.5 162.5 125. ]]\n"
     ]
    }
   ],
   "source": [
    "import numpy as np\n",
    "from scipy.stats import chi2_contingency\n",
    "\n",
    "# create contingency table\n",
    "obs = np.array([[200, 150, 150], [225, 175, 100]])\n",
    "\n",
    "# perform chi-square test for independence\n",
    "chi2, pval, dof, expected = chi2_contingency(obs)\n",
    "\n",
    "# print results\n",
    "print(\"Chi-square statistic: \", chi2)\n",
    "print(\"Degrees of freedom: \", dof)\n",
    "print(\"p-value: \", pval)\n",
    "print(\"Expected frequencies: \\n\", expected)\n"
   ]
  },
  {
   "cell_type": "markdown",
   "metadata": {},
   "source": [
    "Q11. A random sample of 30 people was selected from a population with an unknown mean and standard\n",
    "deviation. The sample mean was found to be 72 and the sample standard deviation was found to be 10.\n",
    "Conduct a hypothesis test to determine if the population mean is significantly different from 70. Use a\n",
    "significance level of 0.05"
   ]
  },
  {
   "cell_type": "code",
   "execution_count": 36,
   "metadata": {},
   "outputs": [
    {
     "name": "stdout",
     "output_type": "stream",
     "text": [
      "Fail to reject the null hypothesis.\n",
      "Confidence interval: (68.265938632419, 75.734061367581)\n"
     ]
    }
   ],
   "source": [
    "import numpy as np\n",
    "from scipy.stats import t\n",
    "\n",
    "# Sample statistics\n",
    "n = 30\n",
    "x_bar = 72\n",
    "s = 10\n",
    "\n",
    "# Null hypothesis\n",
    "mu0 = 70\n",
    "\n",
    "# Degrees of freedom\n",
    "df = n - 1\n",
    "\n",
    "# Calculate t-statistic\n",
    "t_stat = (x_bar - mu0) / (s / np.sqrt(n))\n",
    "\n",
    "# Calculate p-value\n",
    "p_val = 2 * (1 - t.cdf(np.abs(t_stat), df))\n",
    "\n",
    "# Test decision\n",
    "alpha = 0.05\n",
    "if p_val < alpha:\n",
    "    print(\"Reject the null hypothesis.\")\n",
    "else:\n",
    "    print(\"Fail to reject the null hypothesis.\")\n",
    "\n",
    "# Confidence interval\n",
    "t_crit = t.ppf(1 - alpha/2, df)\n",
    "lower_ci = x_bar - t_crit * (s / np.sqrt(n))\n",
    "upper_ci = x_bar + t_crit * (s / np.sqrt(n))\n",
    "print(f\"Confidence interval: ({lower_ci}, {upper_ci})\")\n"
   ]
  },
  {
   "cell_type": "code",
   "execution_count": null,
   "metadata": {},
   "outputs": [],
   "source": []
  }
 ],
 "metadata": {
  "kernelspec": {
   "display_name": "Python 3",
   "language": "python",
   "name": "python3"
  },
  "language_info": {
   "codemirror_mode": {
    "name": "ipython",
    "version": 3
   },
   "file_extension": ".py",
   "mimetype": "text/x-python",
   "name": "python",
   "nbconvert_exporter": "python",
   "pygments_lexer": "ipython3",
   "version": "3.6.5"
  }
 },
 "nbformat": 4,
 "nbformat_minor": 2
}
